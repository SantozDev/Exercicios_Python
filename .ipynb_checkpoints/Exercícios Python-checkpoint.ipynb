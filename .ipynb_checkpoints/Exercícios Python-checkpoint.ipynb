{
 "cells": [
  {
   "cell_type": "markdown",
   "id": "686f1eb0",
   "metadata": {},
   "source": [
    "# Exercícios de Python\n",
    "\n",
    "- Olá, seja bem vindo(a) ao meu repositório de códigos Python 👋😊\n",
    "\n",
    "- Você está em meu Github [SantozDev](https://github.com/SantozDev)\n",
    "\n",
    "- O meu nome é Luiz Santos e sou estudante de Análise e Desenvolvimento de Sistemas.\n",
    "\n",
    "- Este repositório contém exercícios de Python que executei praticando a minha lógica de programação.\n",
    "\n",
    "- Os exercícios possuem uma ordem sequencial aumentando seu nível de dificuldade.\n",
    "\n",
    "- Fique a vontade para consultar meus códigos, se quiser tirar alguma dúvida comigo, me contate através do meu [Linkedin](https://www.linkedin.com/in/luiz-santos-a754232b9/).\n",
    "---"
   ]
  },
  {
   "cell_type": "markdown",
   "id": "ba8c4eee",
   "metadata": {},
   "source": [
    "## Exercício 01 (variáveis).\n",
    "- Crie um algorítmo que solicite o nome do usuário, após isso mostre uma mensagem de boas vindas."
   ]
  },
  {
   "cell_type": "code",
   "execution_count": 1,
   "id": "b0c50ecf",
   "metadata": {},
   "outputs": [
    {
     "name": "stdin",
     "output_type": "stream",
     "text": [
      "Por favor digite o seu nome:  Luiz\n"
     ]
    },
    {
     "name": "stdout",
     "output_type": "stream",
     "text": [
      "Olá Luiz, seja bem-vindo(a)!\n"
     ]
    }
   ],
   "source": [
    "nome = input('Por favor digite o seu nome: ')\n",
    "print(f'Olá {nome}, seja bem-vindo(a)!')"
   ]
  },
  {
   "cell_type": "markdown",
   "id": "7cfc56d4-a660-44f0-9ac9-eb06fbab6379",
   "metadata": {},
   "source": [
    "---"
   ]
  },
  {
   "cell_type": "markdown",
   "id": "b19ddf41",
   "metadata": {},
   "source": [
    "## Exercício 02 (operadores aritméticos).\n",
    "- Faça um programa que solicite duas notas e calcule a média aritmética das notas, após isso emprima o resultado na tela."
   ]
  },
  {
   "cell_type": "code",
   "execution_count": 2,
   "id": "c4154d32-9ecb-477f-8775-d38441612488",
   "metadata": {},
   "outputs": [
    {
     "name": "stdin",
     "output_type": "stream",
     "text": [
      "Digite a primeira nota:  9.5\n",
      "Digite a segunda nota:  6\n"
     ]
    },
    {
     "name": "stdout",
     "output_type": "stream",
     "text": [
      "A média de 9.5 e 6.0 é 7.75\n"
     ]
    }
   ],
   "source": [
    "n1 = float(input('Digite a primeira nota: '))\n",
    "n2 = float(input('Digite a segunda nota: '))\n",
    "media = (n1 + n2) / 2\n",
    "print(f'A média de {n1} e {n2} é {media}')"
   ]
  },
  {
   "cell_type": "markdown",
   "id": "4137ad46-528c-4c7b-ac86-cfa6b142470e",
   "metadata": {},
   "source": [
    "---"
   ]
  },
  {
   "cell_type": "markdown",
   "id": "04900d74",
   "metadata": {},
   "source": [
    "## Exercício 03 (atribuição).\n",
    "- As variáveis (A e B) possuem valores distintos, (A = 5, e B = 10), Crie um algorítmo que armazene esses dois valores nessas duas variáveis, e troque os valores de forma que a variável A tenha o valor de B, e que a variável B tenha o valor de A, por fim apresente os valores trocados."
   ]
  },
  {
   "cell_type": "code",
   "execution_count": 3,
   "id": "384a4b00-9249-44b4-af39-e16225d02fcc",
   "metadata": {
    "jp-MarkdownHeadingCollapsed": true
   },
   "outputs": [
    {
     "name": "stdout",
     "output_type": "stream",
     "text": [
      "Valor de a: 10, valor de b: 5.\n"
     ]
    }
   ],
   "source": [
    "a = 5\n",
    "b = 10\n",
    "temp = a\n",
    "a = b\n",
    "b = temp\n",
    "print(f'Valor de a: {a}, valor de b: {b}.')"
   ]
  },
  {
   "cell_type": "markdown",
   "id": "6eaa9b73-7437-4c5e-aef4-b620ee7ed9d7",
   "metadata": {
    "jp-MarkdownHeadingCollapsed": true
   },
   "source": [
    "---"
   ]
  },
  {
   "cell_type": "markdown",
   "id": "3842390b",
   "metadata": {},
   "source": [
    "## Exercício 04 (estruturas de decisão).\n",
    "- Receba do usuário 3 notas e calcule a média aritmética, se a média for maior ou igual a sete, mostre na tela que o aluno foi aprovado por média.\n",
    "- Se a média for maior ou igual a 5 e menor que 7, mostre na tela que o aluno está de recuperação. \n",
    "- Se a média for menor que 5, mostre na tela que o aluno está reprovado.\n",
    "- Considera que as notas dos alunos só podem ser de zero a dez."
   ]
  },
  {
   "cell_type": "code",
   "execution_count": 4,
   "id": "743e3747-1068-4e36-906e-dd9bd25a79d3",
   "metadata": {},
   "outputs": [
    {
     "name": "stdin",
     "output_type": "stream",
     "text": [
      "Digite a 1° nota:  7.5\n",
      "Digite a 2° nota:  4\n",
      "Digite a 3° nota:  9.5\n"
     ]
    },
    {
     "name": "stdout",
     "output_type": "stream",
     "text": [
      "Aprovado por média, sua média é 7.0\n"
     ]
    }
   ],
   "source": [
    "n1 = float(input('Digite a 1° nota: '))\n",
    "n2 = float(input('Digite a 2° nota: '))\n",
    "n3 = float(input('Digite a 3° nota: '))\n",
    "media = (n1 + n2 + n3) / 3\n",
    "media = round(media, 1)\n",
    "if n1 >=0 and n1 <=10 and n2 >=0 and n2 <=10 and n3 >=0 and n3 <=10:\n",
    "    if media >= 7.0:\n",
    "        print('Aprovado por média, sua média é', media)\n",
    "    elif media >= 5.0:\n",
    "        print('Você está de recuperação, sua média é', media)\n",
    "    elif media <5.0:\n",
    "        print('Você está reprovado, sua média é', media)\n",
    "else:\n",
    "    raise Exception('Por favor, insira uma nota válida de 0 a 10')"
   ]
  },
  {
   "cell_type": "markdown",
   "id": "75196b13-e500-4ffb-bbd3-fab7b0434f0c",
   "metadata": {},
   "source": [
    "---"
   ]
  },
  {
   "cell_type": "markdown",
   "id": "e621b34b",
   "metadata": {},
   "source": [
    "## Exercício 05 (estruturas de decisão).\n",
    "- Receba um número do usuario e informe se ele é par ou ímpar."
   ]
  },
  {
   "cell_type": "code",
   "execution_count": 5,
   "id": "bdce200b",
   "metadata": {},
   "outputs": [
    {
     "name": "stdin",
     "output_type": "stream",
     "text": [
      "Digite um número para saber se ele é par ou ímpar:  99\n"
     ]
    },
    {
     "name": "stdout",
     "output_type": "stream",
     "text": [
      "O número 99 é ÍMPAR\n"
     ]
    }
   ],
   "source": [
    "n = int(input('Digite um número para saber se ele é par ou ímpar: '))\n",
    "if n % 2 == 0:\n",
    "    print(f'O número {n} é PAR.')\n",
    "elif n % 2 != 0:\n",
    "    print(f'O número {n} é ÍMPAR')\n",
    "else:\n",
    "    print('Por favor insira um número válido')"
   ]
  },
  {
   "cell_type": "markdown",
   "id": "b1e96abc-47fb-4b98-83b8-739591d9c9db",
   "metadata": {},
   "source": [
    "---"
   ]
  },
  {
   "cell_type": "markdown",
   "id": "0861f765",
   "metadata": {},
   "source": [
    "## Exercício 06 (laço de repetição FOR). \n",
    "- Peça ao usuário que ele digite um número inteiro, em seguida calcule a tabuada de multiplcar deste número e mostre na tela."
   ]
  },
  {
   "cell_type": "code",
   "execution_count": 6,
   "id": "e73b79e2",
   "metadata": {},
   "outputs": [
    {
     "name": "stdin",
     "output_type": "stream",
     "text": [
      "Digite um número inteiro para verificar a tabuada de multiplicar:  64\n"
     ]
    },
    {
     "name": "stdout",
     "output_type": "stream",
     "text": [
      "64 x 0 = 0\n",
      "64 x 1 = 64\n",
      "64 x 2 = 128\n",
      "64 x 3 = 192\n",
      "64 x 4 = 256\n",
      "64 x 5 = 320\n",
      "64 x 6 = 384\n",
      "64 x 7 = 448\n",
      "64 x 8 = 512\n",
      "64 x 9 = 576\n",
      "64 x 10 = 640\n"
     ]
    }
   ],
   "source": [
    "n = int(input('Digite um número inteiro para verificar a tabuada de multiplicar: '))\n",
    "for i in range(11):\n",
    "    print(f'{n} x {i} = {n * i}')"
   ]
  },
  {
   "cell_type": "markdown",
   "id": "2c0e1ebd-e5b4-422c-8560-e6281381061b",
   "metadata": {},
   "source": [
    "---"
   ]
  },
  {
   "cell_type": "markdown",
   "id": "08e518c5",
   "metadata": {},
   "source": [
    "# Exercício 07 (laço de repetição FOR). \n",
    "- Receba 10 números do usuário e mostre a soma de todos os números ímpares."
   ]
  },
  {
   "cell_type": "code",
   "execution_count": 7,
   "id": "09bc01fb",
   "metadata": {},
   "outputs": [
    {
     "name": "stdin",
     "output_type": "stream",
     "text": [
      "Por favor digite um numero 1° :  24\n",
      "Por favor digite um numero 2° :  38\n",
      "Por favor digite um numero 3° :  6\n",
      "Por favor digite um numero 4° :  2\n",
      "Por favor digite um numero 5° :  10\n",
      "Por favor digite um numero 6° :  1\n",
      "Por favor digite um numero 7° :  3\n",
      "Por favor digite um numero 8° :  5\n",
      "Por favor digite um numero 9° :  7\n",
      "Por favor digite um numero 10° :  9\n"
     ]
    },
    {
     "name": "stdout",
     "output_type": "stream",
     "text": [
      "A soma dos números ímpares é 25.0\n"
     ]
    }
   ],
   "source": [
    "soma = 0\n",
    "for i in range(10):\n",
    "    n = float(input(f'Por favor digite um numero {i + 1}° : '))\n",
    "    if n % 2 != 0:\n",
    "        soma += n\n",
    "print(f'A soma dos números ímpares é {soma}')"
   ]
  },
  {
   "cell_type": "markdown",
   "id": "306d6adc-30e2-42a2-8543-997c6d5cb4dd",
   "metadata": {},
   "source": [
    "---"
   ]
  },
  {
   "cell_type": "markdown",
   "id": "944e5b1e",
   "metadata": {},
   "source": [
    "## Exercício 08 (laço de repetição FOR & WHILE).\n",
    "- Leia um valor n e imprima todos os valores **inteiros** entre 1 e n (inclusive). considera que n sempre será maior que zero. "
   ]
  },
  {
   "cell_type": "code",
   "execution_count": 8,
   "id": "c7010a54",
   "metadata": {},
   "outputs": [
    {
     "name": "stdin",
     "output_type": "stream",
     "text": [
      "Digite um número inteiro maior que zero:  12\n"
     ]
    },
    {
     "name": "stdout",
     "output_type": "stream",
     "text": [
      "1\n",
      "2\n",
      "3\n",
      "4\n",
      "5\n",
      "6\n",
      "7\n",
      "8\n",
      "9\n",
      "10\n",
      "11\n",
      "12\n"
     ]
    }
   ],
   "source": [
    "while True:\n",
    "    valor = int(input('Digite um número inteiro maior que zero: '))\n",
    "    if valor > 0:\n",
    "        break\n",
    "    else:\n",
    "        print(\"O valor deve ser maior que zero, tente novamente\")\n",
    "\n",
    "for i in range(1, valor + 1):\n",
    "    print(i)"
   ]
  },
  {
   "cell_type": "markdown",
   "id": "53ee4052-6e52-4952-9516-1a268faa5a5a",
   "metadata": {},
   "source": [
    "---"
   ]
  },
  {
   "cell_type": "markdown",
   "id": "3a0cc235",
   "metadata": {},
   "source": [
    "## Exercício 09 (laço de repetição FOR).\n",
    "- Ler 10 valores e escrever quantos desses valores lidos são **negativos**."
   ]
  },
  {
   "cell_type": "code",
   "execution_count": 9,
   "id": "abab48da",
   "metadata": {},
   "outputs": [
    {
     "name": "stdin",
     "output_type": "stream",
     "text": [
      "Digite um número 1° :  1\n",
      "Digite um número 2° :  2\n",
      "Digite um número 3° :  3\n",
      "Digite um número 4° :  4\n",
      "Digite um número 5° :  5\n",
      "Digite um número 6° :  6\n",
      "Digite um número 7° :  7\n",
      "Digite um número 8° :  -1\n",
      "Digite um número 9° :  -2\n",
      "Digite um número 10° :  -3\n"
     ]
    },
    {
     "name": "stdout",
     "output_type": "stream",
     "text": [
      "foram 3 números negativos\n"
     ]
    }
   ],
   "source": [
    "cont = 0\n",
    "for i in range(10):\n",
    "    numero = int(input(f'Digite um número {i + 1}° : '))\n",
    "    if numero < 0:\n",
    "        cont += 1\n",
    "print(f'foram {cont} números negativos')"
   ]
  },
  {
   "cell_type": "markdown",
   "id": "dfa69d8b-9e11-4563-beaf-c24652e6968d",
   "metadata": {},
   "source": [
    "---"
   ]
  },
  {
   "cell_type": "markdown",
   "id": "a5b7584f",
   "metadata": {},
   "source": [
    "## Exercício 10 (laço de repetição WHILE).\n",
    "- Faça um código que receba o número de alunos de uma sala de aula, depois solicite as notas destes alunos, no final mostre a média aritmética da turma."
   ]
  },
  {
   "cell_type": "code",
   "execution_count": 10,
   "id": "ce7667e4",
   "metadata": {},
   "outputs": [
    {
     "name": "stdin",
     "output_type": "stream",
     "text": [
      "Quantos alunos tem na sala?  5\n",
      "Digite uma nota:  6\n",
      "Digite uma nota:  4.5\n",
      "Digite uma nota:  7\n",
      "Digite uma nota:  8\n",
      "Digite uma nota:  10\n"
     ]
    },
    {
     "name": "stdout",
     "output_type": "stream",
     "text": [
      "A média da turma é 7.1\n"
     ]
    }
   ],
   "source": [
    "qntd_alunos = int(input('Quantos alunos tem na sala? '))\n",
    "contador = 0\n",
    "somar_notas = 0\n",
    "while contador < qntd_alunos:\n",
    "    contador += 1\n",
    "    nota = float(input('Digite uma nota: '))\n",
    "    somar_notas += nota\n",
    "total = somar_notas / qntd_alunos\n",
    "total = round(total, 1)\n",
    "print('A média da turma é', total)"
   ]
  },
  {
   "cell_type": "markdown",
   "id": "15636074-57c8-47cc-ae0a-67eb0f367bc3",
   "metadata": {},
   "source": [
    "---"
   ]
  },
  {
   "cell_type": "markdown",
   "id": "69bc8317",
   "metadata": {},
   "source": [
    "# Exercício 11 (listas).\n",
    "- Crie um programa que leia os valores de vendas de uma semana, realize algumas operações e exiba os resultados.\n",
    "\n",
    "(1) Peça ao usuário para inserir os valores de vendas de 7 dias e armazene-os em uma lista.\n",
    "\n",
    "(2) Exiba a lista original de valores de vendas.\n",
    "\n",
    "(3) Calcule e exiba o total de vendas da semana.\n",
    "\n",
    "(4) Calcule e exiba a média de vendas.\n",
    "\n",
    "(5) Encontre e exiba o maior e o menor valor de vendas.\n",
    "\n",
    "(6) Identifique e exiba os dias em que as vendas foram acima da média."
   ]
  },
  {
   "cell_type": "code",
   "execution_count": 11,
   "id": "378798b0",
   "metadata": {},
   "outputs": [
    {
     "name": "stdin",
     "output_type": "stream",
     "text": [
      "Digite o 1° valor da semana:  255.90\n",
      "Digite o 2° valor da semana:  275.80\n",
      "Digite o 3° valor da semana:  260.25\n",
      "Digite o 4° valor da semana:  344.2\n",
      "Digite o 5° valor da semana:  350.0\n",
      "Digite o 6° valor da semana:  385.4\n",
      "Digite o 7° valor da semana:  595.9\n"
     ]
    },
    {
     "name": "stdout",
     "output_type": "stream",
     "text": [
      "As vendas na semana foram de [255.9, 275.8, 260.25, 344.2, 350.0, 385.4, 595.9]\n",
      "O total das vendas da semana foi de 2467.45\n",
      "A média das vendas foi de 352.49\n",
      "O maior valor das vendas da semana foi 595.9\n",
      "O menor valor das vendas da semana foi 255.9\n",
      "As vendas acima da média foram: [385.4, 595.9]\n"
     ]
    }
   ],
   "source": [
    "vendas_semana = []\n",
    "for x in range(7):\n",
    "    venda = float(input(f'Digite o {x + 1}° valor da semana: '))\n",
    "    vendas_semana.append(venda)\n",
    "\n",
    "total_vendas = round(sum(vendas_semana),2)\n",
    "media_vendas = round(total_vendas / len(vendas_semana),2)\n",
    "maior_valor = max(vendas_semana)\n",
    "menor_valor = min(vendas_semana)\n",
    "vendas_acima_media = [i for i in vendas_semana if i > media_vendas]\n",
    "\n",
    "print('As vendas na semana foram de', vendas_semana)\n",
    "print('O total das vendas da semana foi de', total_vendas)\n",
    "print('A média das vendas foi de', media_vendas)\n",
    "print('O maior valor das vendas da semana foi', maior_valor)\n",
    "print('O menor valor das vendas da semana foi', menor_valor)\n",
    "print('As vendas acima da média foram:', vendas_acima_media)"
   ]
  },
  {
   "cell_type": "markdown",
   "id": "99202ff3-32e5-48b4-b689-152a0995cebb",
   "metadata": {},
   "source": [
    "---"
   ]
  },
  {
   "cell_type": "markdown",
   "id": "a64aa072",
   "metadata": {},
   "source": [
    "## Exercicio  12 (funções, dicionários, listas, while).\n",
    "- Crie um código para o jogo Pedra, Papel e Tesoura."
   ]
  },
  {
   "cell_type": "code",
   "execution_count": 12,
   "id": "5e274226",
   "metadata": {},
   "outputs": [
    {
     "name": "stdout",
     "output_type": "stream",
     "text": [
      "Olá, bem vindo ao jogo de Pedra, Papel e Tesoura \n",
      "\n",
      "Você irá jogar contra o computador \n",
      "\n",
      "Escolha:\n",
      "1 para Pedra \n",
      "2 para Papel \n",
      "3 para Tesoura \n",
      " \n"
     ]
    },
    {
     "name": "stdin",
     "output_type": "stream",
     "text": [
      "Qual número você escolhe?  1\n"
     ]
    },
    {
     "name": "stdout",
     "output_type": "stream",
     "text": [
      "O PC escolheu pedra\n",
      "Você escolheu pedra\n",
      "Empate, nenhum jogador venceu\n"
     ]
    },
    {
     "name": "stdin",
     "output_type": "stream",
     "text": [
      "Deseja repetir o jogo? (s/n)  s\n"
     ]
    },
    {
     "name": "stdout",
     "output_type": "stream",
     "text": [
      "Olá, bem vindo ao jogo de Pedra, Papel e Tesoura \n",
      "\n",
      "Você irá jogar contra o computador \n",
      "\n",
      "Escolha:\n",
      "1 para Pedra \n",
      "2 para Papel \n",
      "3 para Tesoura \n",
      " \n"
     ]
    },
    {
     "name": "stdin",
     "output_type": "stream",
     "text": [
      "Qual número você escolhe?  3\n"
     ]
    },
    {
     "name": "stdout",
     "output_type": "stream",
     "text": [
      "O PC escolheu papel\n",
      "Você escolheu tesoura\n",
      "Você venceu!\n"
     ]
    },
    {
     "name": "stdin",
     "output_type": "stream",
     "text": [
      "Deseja repetir o jogo? (s/n)  s\n"
     ]
    },
    {
     "name": "stdout",
     "output_type": "stream",
     "text": [
      "Olá, bem vindo ao jogo de Pedra, Papel e Tesoura \n",
      "\n",
      "Você irá jogar contra o computador \n",
      "\n",
      "Escolha:\n",
      "1 para Pedra \n",
      "2 para Papel \n",
      "3 para Tesoura \n",
      " \n"
     ]
    },
    {
     "name": "stdin",
     "output_type": "stream",
     "text": [
      "Qual número você escolhe?  2\n"
     ]
    },
    {
     "name": "stdout",
     "output_type": "stream",
     "text": [
      "O PC escolheu pedra\n",
      "Você escolheu papel\n",
      "Você venceu!\n"
     ]
    },
    {
     "name": "stdin",
     "output_type": "stream",
     "text": [
      "Deseja repetir o jogo? (s/n)  s\n"
     ]
    },
    {
     "name": "stdout",
     "output_type": "stream",
     "text": [
      "Olá, bem vindo ao jogo de Pedra, Papel e Tesoura \n",
      "\n",
      "Você irá jogar contra o computador \n",
      "\n",
      "Escolha:\n",
      "1 para Pedra \n",
      "2 para Papel \n",
      "3 para Tesoura \n",
      " \n"
     ]
    },
    {
     "name": "stdin",
     "output_type": "stream",
     "text": [
      "Qual número você escolhe?  2\n"
     ]
    },
    {
     "name": "stdout",
     "output_type": "stream",
     "text": [
      "O PC escolheu papel\n",
      "Você escolheu papel\n",
      "Empate, nenhum jogador venceu\n"
     ]
    },
    {
     "name": "stdin",
     "output_type": "stream",
     "text": [
      "Deseja repetir o jogo? (s/n)  s\n"
     ]
    },
    {
     "name": "stdout",
     "output_type": "stream",
     "text": [
      "Olá, bem vindo ao jogo de Pedra, Papel e Tesoura \n",
      "\n",
      "Você irá jogar contra o computador \n",
      "\n",
      "Escolha:\n",
      "1 para Pedra \n",
      "2 para Papel \n",
      "3 para Tesoura \n",
      " \n"
     ]
    },
    {
     "name": "stdin",
     "output_type": "stream",
     "text": [
      "Qual número você escolhe?  2\n"
     ]
    },
    {
     "name": "stdout",
     "output_type": "stream",
     "text": [
      "O PC escolheu pedra\n",
      "Você escolheu papel\n",
      "Você venceu!\n"
     ]
    },
    {
     "name": "stdin",
     "output_type": "stream",
     "text": [
      "Deseja repetir o jogo? (s/n)  n\n"
     ]
    },
    {
     "name": "stdout",
     "output_type": "stream",
     "text": [
      "Você saiu do jogo\n"
     ]
    }
   ],
   "source": [
    "# importando o módulo random\n",
    "import random\n",
    "\n",
    "# criando o menu de inicio\n",
    "class Play:\n",
    "    def __init__(self):\n",
    "        self.iniciar()\n",
    "\n",
    "    def iniciar(self):\n",
    "        print('Olá, bem vindo ao jogo de Pedra, Papel e Tesoura \\n')\n",
    "        print('Você irá jogar contra o computador \\n')\n",
    "        print('Escolha:\\n'\n",
    "              '1 para Pedra \\n'\n",
    "              '2 para Papel \\n'\n",
    "              '3 para Tesoura \\n ')\n",
    "        self.jogar()\n",
    "\n",
    "# criando opções para o jogador escolher\n",
    "    def jogar(self):\n",
    "        while True:\n",
    "            try:\n",
    "                pergunta = int(input('Qual número você escolhe? '))\n",
    "                if pergunta not in [1,2,3]:\n",
    "                    raise ValueError\n",
    "                break\n",
    "            except ValueError:\n",
    "                print('Escolha inválida! Por favor, escolha 1, 2 ou 3. ')\n",
    "\n",
    "# mostrando qual valor você e o computador escolheu\n",
    "        numero_aleatorio = random.randint(1, 3)\n",
    "        escolhas = {1: 'pedra', 2: 'papel', 3: 'tesoura'}\n",
    "        print(f'O PC escolheu {escolhas[numero_aleatorio]}')\n",
    "        print(f'Você escolheu {escolhas[pergunta]}')\n",
    "\n",
    "        self.resultado(pergunta, numero_aleatorio)\n",
    "        \n",
    "# definindo o resultado do jogo\n",
    "    def resultado(self, jogador, pc):\n",
    "        if jogador == pc:\n",
    "            print('Empate, nenhum jogador venceu')\n",
    "        elif (jogador == 1 and pc == 3) or (jogador == 2 and pc == 1) or (jogador == 3 and pc == 2):\n",
    "            print('Você venceu!')\n",
    "        else:\n",
    "            print('O PC venceu!')\n",
    "            \n",
    "# loop para continuar ou sair do jogo\n",
    "while True:\n",
    "    Play()\n",
    "    repetir = input('Deseja repetir o jogo? (s/n) ')\n",
    "    if repetir.lower() != 's':\n",
    "        print('Você saiu do jogo')\n",
    "        break"
   ]
  },
  {
   "cell_type": "markdown",
   "id": "4ed71e07-e674-4377-bea6-3efbb506f6cd",
   "metadata": {},
   "source": [
    "---"
   ]
  },
  {
   "cell_type": "code",
   "execution_count": null,
   "id": "367c4ad9-2157-483e-97ed-e5d645d12dd7",
   "metadata": {},
   "outputs": [],
   "source": []
  }
 ],
 "metadata": {
  "kernelspec": {
   "display_name": "Python 3 (ipykernel)",
   "language": "python",
   "name": "python3"
  },
  "language_info": {
   "codemirror_mode": {
    "name": "ipython",
    "version": 3
   },
   "file_extension": ".py",
   "mimetype": "text/x-python",
   "name": "python",
   "nbconvert_exporter": "python",
   "pygments_lexer": "ipython3",
   "version": "3.10.12"
  }
 },
 "nbformat": 4,
 "nbformat_minor": 5
}
